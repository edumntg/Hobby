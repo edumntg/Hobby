{
  "nbformat": 4,
  "nbformat_minor": 0,
  "metadata": {
    "colab": {
      "name": "COD_Optim_Weapons.ipynb",
      "provenance": [],
      "collapsed_sections": [],
      "toc_visible": true
    },
    "kernelspec": {
      "name": "python3",
      "display_name": "Python 3"
    }
  },
  "cells": [
    {
      "cell_type": "code",
      "metadata": {
        "colab": {
          "base_uri": "https://localhost:8080/"
        },
        "id": "PEpMz1fqZllf",
        "outputId": "d31e690e-5cf8-41d6-8345-e96636c76566"
      },
      "source": [
        "pip install cloudscraper"
      ],
      "execution_count": 1,
      "outputs": [
        {
          "output_type": "stream",
          "text": [
            "Collecting cloudscraper\n",
            "\u001b[?25l  Downloading https://files.pythonhosted.org/packages/cd/63/087ff50109a4a08fd267a9652f1cf6969164ff9d68097e2f250cd59cbfd0/cloudscraper-1.2.56-py2.py3-none-any.whl (96kB)\n",
            "\r\u001b[K     |███▍                            | 10kB 17.6MB/s eta 0:00:01\r\u001b[K     |██████▉                         | 20kB 17.4MB/s eta 0:00:01\r\u001b[K     |██████████▏                     | 30kB 9.4MB/s eta 0:00:01\r\u001b[K     |█████████████▋                  | 40kB 8.1MB/s eta 0:00:01\r\u001b[K     |█████████████████               | 51kB 7.7MB/s eta 0:00:01\r\u001b[K     |████████████████████▍           | 61kB 6.8MB/s eta 0:00:01\r\u001b[K     |███████████████████████▉        | 71kB 7.7MB/s eta 0:00:01\r\u001b[K     |███████████████████████████▎    | 81kB 8.1MB/s eta 0:00:01\r\u001b[K     |██████████████████████████████▋ | 92kB 7.6MB/s eta 0:00:01\r\u001b[K     |████████████████████████████████| 102kB 4.8MB/s \n",
            "\u001b[?25hRequirement already satisfied: pyparsing>=2.4.7 in /usr/local/lib/python3.7/dist-packages (from cloudscraper) (2.4.7)\n",
            "Requirement already satisfied: requests>=2.9.2 in /usr/local/lib/python3.7/dist-packages (from cloudscraper) (2.23.0)\n",
            "Collecting requests-toolbelt>=0.9.1\n",
            "\u001b[?25l  Downloading https://files.pythonhosted.org/packages/60/ef/7681134338fc097acef8d9b2f8abe0458e4d87559c689a8c306d0957ece5/requests_toolbelt-0.9.1-py2.py3-none-any.whl (54kB)\n",
            "\u001b[K     |████████████████████████████████| 61kB 5.0MB/s \n",
            "\u001b[?25hRequirement already satisfied: idna<3,>=2.5 in /usr/local/lib/python3.7/dist-packages (from requests>=2.9.2->cloudscraper) (2.10)\n",
            "Requirement already satisfied: urllib3!=1.25.0,!=1.25.1,<1.26,>=1.21.1 in /usr/local/lib/python3.7/dist-packages (from requests>=2.9.2->cloudscraper) (1.24.3)\n",
            "Requirement already satisfied: certifi>=2017.4.17 in /usr/local/lib/python3.7/dist-packages (from requests>=2.9.2->cloudscraper) (2020.12.5)\n",
            "Requirement already satisfied: chardet<4,>=3.0.2 in /usr/local/lib/python3.7/dist-packages (from requests>=2.9.2->cloudscraper) (3.0.4)\n",
            "Installing collected packages: requests-toolbelt, cloudscraper\n",
            "Successfully installed cloudscraper-1.2.56 requests-toolbelt-0.9.1\n"
          ],
          "name": "stdout"
        }
      ]
    },
    {
      "cell_type": "code",
      "metadata": {
        "colab": {
          "base_uri": "https://localhost:8080/"
        },
        "id": "ysn9YORh7SKi",
        "outputId": "f94802e9-2989-4dd9-8d7f-e272c916127e"
      },
      "source": [
        "pip install pyomo"
      ],
      "execution_count": 2,
      "outputs": [
        {
          "output_type": "stream",
          "text": [
            "Collecting pyomo\n",
            "\u001b[?25l  Downloading https://files.pythonhosted.org/packages/ed/eb/b1769004e75bf4a81f3663f56e25ea8553f10af9f3f94481838f1cff758b/Pyomo-5.7.3-cp37-cp37m-manylinux2010_x86_64.whl (9.5MB)\n",
            "\u001b[K     |████████████████████████████████| 9.5MB 7.3MB/s \n",
            "\u001b[?25hCollecting PyUtilib>=6.0.0\n",
            "\u001b[?25l  Downloading https://files.pythonhosted.org/packages/e1/e7/c3e5994b4e5c90280b5c14ffef409875ec5436d1d0d9f8585794993a7d77/PyUtilib-6.0.0-py2.py3-none-any.whl (254kB)\n",
            "\u001b[K     |████████████████████████████████| 256kB 35.4MB/s \n",
            "\u001b[?25hRequirement already satisfied: six>=1.4 in /usr/local/lib/python3.7/dist-packages (from pyomo) (1.15.0)\n",
            "Collecting ply\n",
            "\u001b[?25l  Downloading https://files.pythonhosted.org/packages/a3/58/35da89ee790598a0700ea49b2a66594140f44dec458c07e8e3d4979137fc/ply-3.11-py2.py3-none-any.whl (49kB)\n",
            "\u001b[K     |████████████████████████████████| 51kB 5.5MB/s \n",
            "\u001b[?25hCollecting nose\n",
            "\u001b[?25l  Downloading https://files.pythonhosted.org/packages/15/d8/dd071918c040f50fa1cf80da16423af51ff8ce4a0f2399b7bf8de45ac3d9/nose-1.3.7-py3-none-any.whl (154kB)\n",
            "\u001b[K     |████████████████████████████████| 163kB 34.0MB/s \n",
            "\u001b[?25hInstalling collected packages: nose, PyUtilib, ply, pyomo\n",
            "Successfully installed PyUtilib-6.0.0 nose-1.3.7 ply-3.11 pyomo-5.7.3\n"
          ],
          "name": "stdout"
        }
      ]
    },
    {
      "cell_type": "code",
      "metadata": {
        "id": "-2bQwr9HB-Ie",
        "colab": {
          "base_uri": "https://localhost:8080/"
        },
        "outputId": "9ac20f49-076a-4f17-ab0b-1c7052ea401f"
      },
      "source": [
        "!apt-get install -y -qq glpk-utils"
      ],
      "execution_count": 3,
      "outputs": [
        {
          "output_type": "stream",
          "text": [
            "Selecting previously unselected package libsuitesparseconfig5:amd64.\n",
            "(Reading database ... 160975 files and directories currently installed.)\n",
            "Preparing to unpack .../libsuitesparseconfig5_1%3a5.1.2-2_amd64.deb ...\n",
            "Unpacking libsuitesparseconfig5:amd64 (1:5.1.2-2) ...\n",
            "Selecting previously unselected package libamd2:amd64.\n",
            "Preparing to unpack .../libamd2_1%3a5.1.2-2_amd64.deb ...\n",
            "Unpacking libamd2:amd64 (1:5.1.2-2) ...\n",
            "Selecting previously unselected package libcolamd2:amd64.\n",
            "Preparing to unpack .../libcolamd2_1%3a5.1.2-2_amd64.deb ...\n",
            "Unpacking libcolamd2:amd64 (1:5.1.2-2) ...\n",
            "Selecting previously unselected package libglpk40:amd64.\n",
            "Preparing to unpack .../libglpk40_4.65-1_amd64.deb ...\n",
            "Unpacking libglpk40:amd64 (4.65-1) ...\n",
            "Selecting previously unselected package glpk-utils.\n",
            "Preparing to unpack .../glpk-utils_4.65-1_amd64.deb ...\n",
            "Unpacking glpk-utils (4.65-1) ...\n",
            "Setting up libsuitesparseconfig5:amd64 (1:5.1.2-2) ...\n",
            "Setting up libcolamd2:amd64 (1:5.1.2-2) ...\n",
            "Setting up libamd2:amd64 (1:5.1.2-2) ...\n",
            "Setting up libglpk40:amd64 (4.65-1) ...\n",
            "Setting up glpk-utils (4.65-1) ...\n",
            "Processing triggers for libc-bin (2.27-3ubuntu1.2) ...\n",
            "/sbin/ldconfig.real: /usr/local/lib/python3.7/dist-packages/ideep4py/lib/libmkldnn.so.0 is not a symbolic link\n",
            "\n",
            "Processing triggers for man-db (2.8.3-2ubuntu0.1) ...\n"
          ],
          "name": "stdout"
        }
      ]
    },
    {
      "cell_type": "code",
      "metadata": {
        "id": "j7SpDj6rTXNF"
      },
      "source": [
        "import requests\r\n",
        "from bs4 import BeautifulSoup\r\n",
        "import cloudscraper\r\n",
        "from pyomo.environ import *"
      ],
      "execution_count": 4,
      "outputs": []
    },
    {
      "cell_type": "code",
      "metadata": {
        "id": "VpnolBg6Tbrh"
      },
      "source": [
        "class Weapon:\r\n",
        "  def __init__(self):\r\n",
        "    self.name = \"\"\r\n",
        "    self.accuracy = 0\r\n",
        "    self.range = 0\r\n",
        "    self.mobility = 0\r\n",
        "    self.damage = 0\r\n",
        "    self.firerate = 0\r\n",
        "    self.control = 0\r\n",
        "\r\n",
        "    self.plus_accuracy = 0\r\n",
        "    self.plus_range = 0\r\n",
        "    self.plus_mobility = 0\r\n",
        "    self.plus_damage = 0\r\n",
        "    self.plus_firerate = 0\r\n",
        "    self.plus_control = 0\r\n",
        "\r\n",
        "    self.attachments = list()\r\n",
        "\r\n",
        "  def __str__(self):\r\n",
        "    ret = \"Name: {0}\\n\\tAccuracy: {1:.2f} (+{2})\\n\\tRange: {3:.2f} (+{4})\\n\\tMobility: {5:.2f} (+{6})\\n\\tDamage: {7:.2f} (+{8})\\n\\tFire Rate: {9:.2f} (+{10})\\n\\tControl: {11:.2f} (+{12})\\n\\t\".format(self.name,\r\n",
        "                                             self.accuracy+self.plus_accuracy,\r\n",
        "                                             self.plus_accuracy,\r\n",
        "                                             self.range+self.plus_range,\r\n",
        "                                             self.plus_range,\r\n",
        "                                             self.mobility+self.plus_mobility,\r\n",
        "                                             self.plus_mobility,\r\n",
        "                                             self.damage+self.plus_damage,\r\n",
        "                                             self.plus_damage,\r\n",
        "                                             self.firerate+self.plus_firerate,\r\n",
        "                                             self.plus_firerate,\r\n",
        "                                             self.control+self.plus_control,\r\n",
        "                                             self.plus_control)\r\n",
        "    if len(self.attachments) > 0:\r\n",
        "      ret += \"\\n\"\r\n",
        "      for attachment in self.attachments:\r\n",
        "        ret += attachment.name + \"\\n\"\r\n",
        "\r\n",
        "    return ret\r\n",
        "\r\n",
        "  def attach(self, attachment):\r\n",
        "    self.attachments.append(attachment)\r\n",
        "    self.plus_accuracy += attachment.accuracy\r\n",
        "    self.plus_range += attachment.range\r\n",
        "    self.plus_mobility += attachment.mobility\r\n",
        "    self.plus_damage += attachment.damage\r\n",
        "    self.plus_firerate += attachment.firerate\r\n",
        "    self.plus_control += attachment.control\r\n",
        "\r\n",
        "  def clearattachments(self):\r\n",
        "    self.attachments.clear()\r\n",
        "    self.plus_accuracy = 0\r\n",
        "    self.plus_range = 0\r\n",
        "    self.plus_mobility = 0\r\n",
        "    self.plus_damage = 0\r\n",
        "    self.plus_firerate = 0\r\n",
        "    self.plus_control = 0\r\n",
        "\r\n",
        "class Attachment:\r\n",
        "  def __init__(self, nam, typ, acc, ran, mob, dam, fir, con):\r\n",
        "    self.name = nam\r\n",
        "    self.type = typ\r\n",
        "    self.accuracy = acc\r\n",
        "    self.range = ran\r\n",
        "    self.mobility = mob\r\n",
        "    self.damage = dam\r\n",
        "    self.firerate = fir\r\n",
        "    self.control = con\r\n",
        "    \r\n",
        "\r\n",
        "  \r\n"
      ],
      "execution_count": 5,
      "outputs": []
    },
    {
      "cell_type": "markdown",
      "metadata": {
        "id": "YVCHAa-WUlwh"
      },
      "source": [
        "# Start Scrapping URL"
      ]
    },
    {
      "cell_type": "code",
      "metadata": {
        "colab": {
          "base_uri": "https://localhost:8080/"
        },
        "id": "rV49IoEpUkWF",
        "outputId": "077f7f16-87db-497e-fe33-703c0a48dd02"
      },
      "source": [
        "url = \"http://cod.tracker.gg\"\r\n",
        "sub_url = \"/warzone/db/weapons\"\r\n",
        "\r\n",
        "scraper = cloudscraper.create_scraper()\r\n",
        "\r\n",
        "#page = requests.get(url + sub_url)\r\n",
        "page = scraper.get(url + sub_url)\r\n",
        "\r\n",
        "soup = BeautifulSoup(page.text, 'html.parser')\r\n",
        "\r\n",
        "pages = 7\r\n",
        "weapons = list()\r\n",
        "for page_id in range(1,pages+1):\r\n",
        "  page = scraper.get(url + sub_url + \"?page=\" + str(page_id))\r\n",
        "  soup = BeautifulSoup(page.text, 'html.parser')\r\n",
        "  divTag = soup.findAll(\"a\", {\"data-type\": \"Weapon\"}, href = True)\r\n",
        "  for tag in divTag:\r\n",
        "    weapon_url = tag['href']\r\n",
        "    print(\"Loading data for \" + weapon_url)\r\n",
        "    weapon_page = scraper.get(url + weapon_url)\r\n",
        "    soup2 = BeautifulSoup(weapon_page.text, 'html.parser')\r\n",
        "\r\n",
        "    weapon = Weapon()\r\n",
        "\r\n",
        "    # Load weapon name and details\r\n",
        "    weapon.name = soup2.findAll(\"h1\", {\"class\": \"weapon-header__title\"})[0].text\r\n",
        "    for tag2 in soup2.findAll(\"div\", {\"class\": \"stat\"}):\r\n",
        "      data = tag2.text.rstrip()\r\n",
        "      data_lst = data.split(\" \")\r\n",
        "      value = float(data_lst[-1])\r\n",
        "      attr_name = \"\"\r\n",
        "      for i in range(len(data_lst)-1):\r\n",
        "        attr_name += data_lst[i].lower()\r\n",
        "      setattr(weapon, attr_name, value)\r\n",
        "\r\n",
        "    # Load weapon attachments\r\n",
        "    attachments = list()\r\n",
        "    \r\n",
        "    weapons.append(weapon)\r\n",
        "\r\n",
        "print(\"Loaded {} weapons\".format(len(weapons)))"
      ],
      "execution_count": 6,
      "outputs": [
        {
          "output_type": "stream",
          "text": [
            "Loading data for /warzone/db/weapons/5-357\n",
            "Loading data for /warzone/db/weapons/3-50-gs\n",
            "Loading data for /warzone/db/weapons/33207244-1911\n",
            "Loading data for /warzone/db/weapons/4-1911\n",
            "Loading data for /warzone/db/weapons/36-725\n",
            "Loading data for /warzone/db/weapons/31370411-ak-47\n",
            "Loading data for /warzone/db/weapons/16-ak-47\n",
            "Loading data for /warzone/db/weapons/30134784-ak-74u\n",
            "Loading data for /warzone/db/weapons/807-an-94\n",
            "Loading data for /warzone/db/weapons/994-as-val\n",
            "Loading data for /warzone/db/weapons/8-aug\n",
            "Loading data for /warzone/db/weapons/27358830-aug\n",
            "Loading data for /warzone/db/weapons/30-ax-50\n",
            "Loading data for /warzone/db/weapons/546-bruen-mk9\n",
            "Loading data for /warzone/db/weapons/33149760-bullfrog\n",
            "Loading data for /warzone/db/weapons/626-cr-56-amax\n",
            "Loading data for /warzone/db/weapons/1122-cx-9\n",
            "Loading data for /warzone/db/weapons/22685878-cigma-2\n",
            "Loading data for /warzone/db/weapons/14-combat-knife\n",
            "Loading data for /warzone/db/weapons/33-crossbow\n",
            "Loading data for /warzone/db/weapons/17840221-dmr-14\n",
            "Loading data for /warzone/db/weapons/32018123-diamatti\n",
            "Loading data for /warzone/db/weapons/31-dragunov\n",
            "Loading data for /warzone/db/weapons/709-dual-kodachis\n",
            "Loading data for /warzone/db/weapons/29931954-e-tool\n",
            "Loading data for /warzone/db/weapons/27-ebr-14\n",
            "Loading data for /warzone/db/weapons/21-fal\n",
            "Loading data for /warzone/db/weapons/27012354-fara-83\n",
            "Loading data for /warzone/db/weapons/19961376-ffar-1\n",
            "Loading data for /warzone/db/weapons/22-fn-scar-17\n",
            "Loading data for /warzone/db/weapons/18-fr-556\n",
            "Loading data for /warzone/db/weapons/631-fennec\n",
            "Loading data for /warzone/db/weapons/980-finn-lmg\n",
            "Loading data for /warzone/db/weapons/19397753-gallo-sa12\n",
            "Loading data for /warzone/db/weapons/346-grau-556\n",
            "Loading data for /warzone/db/weapons/32571167-groza\n",
            "Loading data for /warzone/db/weapons/32-hdr\n",
            "Loading data for /warzone/db/weapons/30096999-hauer-77\n",
            "Loading data for /warzone/db/weapons/210-holger-26\n",
            "Loading data for /warzone/db/weapons/229-iso\n",
            "Loading data for /warzone/db/weapons/1002-jak-12\n",
            "Loading data for /warzone/db/weapons/25-jokr\n",
            "Loading data for /warzone/db/weapons/25555192-ksp-45\n",
            "Loading data for /warzone/db/weapons/714-kali-sticks\n",
            "Loading data for /warzone/db/weapons/28-kar98k\n",
            "Loading data for /warzone/db/weapons/20-kilo-141\n",
            "Loading data for /warzone/db/weapons/19475631-knife\n",
            "Loading data for /warzone/db/weapons/21947399-krig-6\n",
            "Loading data for /warzone/db/weapons/25273531-lc10\n",
            "Loading data for /warzone/db/weapons/18487391-lw3-tundra\n",
            "Loading data for /warzone/db/weapons/19-m13\n",
            "Loading data for /warzone/db/weapons/28596469-m16\n",
            "Loading data for /warzone/db/weapons/2-m19\n",
            "Loading data for /warzone/db/weapons/15-m4a1\n",
            "Loading data for /warzone/db/weapons/23949845-m60\n",
            "Loading data for /warzone/db/weapons/29438698-m79\n",
            "Loading data for /warzone/db/weapons/27528491-m82\n",
            "Loading data for /warzone/db/weapons/38-m91\n",
            "Loading data for /warzone/db/weapons/32224192-mac-10\n",
            "Loading data for /warzone/db/weapons/41-mg34\n",
            "Loading data for /warzone/db/weapons/29-mk2-carbine\n",
            "Loading data for /warzone/db/weapons/28339207-mp5\n",
            "Loading data for /warzone/db/weapons/6-mp5\n",
            "Loading data for /warzone/db/weapons/10-mp7\n",
            "Loading data for /warzone/db/weapons/32832827-machete\n",
            "Loading data for /warzone/db/weapons/18296415-magnum\n",
            "Loading data for /warzone/db/weapons/26730174-milano-821\n",
            "Loading data for /warzone/db/weapons/37-model-680\n",
            "Loading data for /warzone/db/weapons/17-oden\n",
            "Loading data for /warzone/db/weapons/35-origin-12-shotgun\n",
            "Loading data for /warzone/db/weapons/9-p90\n",
            "Loading data for /warzone/db/weapons/24-pila\n",
            "Loading data for /warzone/db/weapons/39-pkm\n",
            "Loading data for /warzone/db/weapons/7-pp19-bizon\n",
            "Loading data for /warzone/db/weapons/21465925-pelington-703\n",
            "Loading data for /warzone/db/weapons/26513395-qbz-83\n",
            "Loading data for /warzone/db/weapons/18145673-r1-shadowhunter\n",
            "Loading data for /warzone/db/weapons/34-r9-0-shotgun\n",
            "Loading data for /warzone/db/weapons/1128-raal-mg\n",
            "Loading data for /warzone/db/weapons/205-ram-7\n",
            "Loading data for /warzone/db/weapons/18048357-rpd\n",
            "Loading data for /warzone/db/weapons/22416099-rpg-7\n",
            "Loading data for /warzone/db/weapons/23-rpg-7\n",
            "Loading data for /warzone/db/weapons/430-renetti\n",
            "Loading data for /warzone/db/weapons/13-riot-shield\n",
            "Loading data for /warzone/db/weapons/894-rytec-amr\n",
            "Loading data for /warzone/db/weapons/40-sa87\n",
            "Loading data for /warzone/db/weapons/536-sks\n",
            "Loading data for /warzone/db/weapons/985-sp-r-208\n",
            "Loading data for /warzone/db/weapons/30919475-sledgehammer\n",
            "Loading data for /warzone/db/weapons/31446037-stoner-63\n",
            "Loading data for /warzone/db/weapons/18936444-streetsweeper\n",
            "Loading data for /warzone/db/weapons/26-strela-p\n",
            "Loading data for /warzone/db/weapons/234-striker-45\n",
            "Loading data for /warzone/db/weapons/1106-sykov\n",
            "Loading data for /warzone/db/weapons/33164193-type-63\n",
            "Loading data for /warzone/db/weapons/11-uzi\n",
            "Loading data for /warzone/db/weapons/340-vlk-rogue\n",
            "Loading data for /warzone/db/weapons/25233892-wakizashi\n",
            "Loading data for /warzone/db/weapons/1-x16\n",
            "Loading data for /warzone/db/weapons/19257346-xm4\n",
            "Loaded 101 weapons\n"
          ],
          "name": "stdout"
        }
      ]
    },
    {
      "cell_type": "markdown",
      "metadata": {
        "id": "yaFZ3sKj2h1U"
      },
      "source": [
        "# Define attachments"
      ]
    },
    {
      "cell_type": "code",
      "metadata": {
        "id": "KVtfDU7i2jya"
      },
      "source": [
        "attachments_dict = {\r\n",
        "    \"XM4\": [\r\n",
        "            # 71 63 63 77 70 79\r\n",
        "            Attachment(\"1mW Laser\", \"Laser\", 2, 0, 1, 0, 0, -1),\r\n",
        "            Attachment(\"5mW Laser\", \"Laser\", 4, 0, 2, 0, 0, -1),\r\n",
        "            Attachment(\"Tac Laser\", \"Laser\", 2, 0, 2, 0, 0, 3),\r\n",
        "            Attachment(\"Tac Laser 2\", \"Laser\", 2, 0, 2, 0, 0, 3),\r\n",
        "            Attachment(\"Compensator\", \"Muzzle\", 2, 0, -1, 0, 0, 3),\r\n",
        "            Attachment(\"Tactical Supressor\", \"Muzzle\", 1.5, 0, -1.5, 0, 0, -0.5),\r\n",
        "            Attachment(\"Reflex\", \"Optic\", 1, 0, -1, 0, 0, -1),\r\n",
        "            Attachment(\"Scout Combat Optic\", \"Optic\", 3, 4, -3, 0, 0, -3),\r\n",
        "            Attachment(\"Variable Zoom Scope\", \"Optic\", 1, 4, -3, 0, 0, -2),\r\n",
        "            Attachment(\"Granulated Grip Tape\", \"Rear Grip\", 2, 0, -2, 0, 0, 2),\r\n",
        "            Attachment(\"Rubberized Grip Tape\", \"Rear Grip\", 4, 0, 0, 0, 0, -2),\r\n",
        "            Attachment(\"Stippled Grip Tape\", \"Rear Grip\", 0, 0, 3, 0, 0, -2),\r\n",
        "            Attachment(\"Commando Foregrip\", \"Underbarrel\", 4, 2, -2, 0, 0, 3),\r\n",
        "            Attachment(\"Merc Foregrip\", \"Underbarrel\", 5, 1, -1.5, 0, 0, 2),\r\n",
        "            Attachment(\"Operator Foregrip\", \"Underbarrel\", 4, 1.5, -1, 0, 0, 1),\r\n",
        "            Attachment(\"Tactical Foregrip\", \"Underbarrel\", 1, 1, -1, 0, 0, 6)\r\n",
        "    ],\r\n",
        "    \"M4A1\": [\r\n",
        "             #71 63 63 72  75 71\r\n",
        "             Attachment(\"50 Round Mags\", \"Ammunition\", 0, 0, -4, 0, 0, -4),\r\n",
        "             Attachment(\"60 Round Mags\", \"Ammunition\", 0, 0, -4, 0, 0, -2.5),\r\n",
        "             Attachment(\"9mm Para 32-Round Mags\", \"Ammunition\", 4, -7, 2, -8, 16, 6),\r\n",
        "             Attachment(\"Corvus Custom Marksman\", \"Barrel\", 3, 5, -3, 0, 0, 4),\r\n",
        "             Attachment(\"FSS 11.5 Commando\", \"Barrel\", -2, -4, 6, 0, 0, -2),\r\n",
        "             Attachment(\"FSS 12.4 Predator\", \"Barrel\", 2, -6, 3, 0, 0, 0),\r\n",
        "             Attachment(\"FSS 14.5 Tac Lite\", \"Barrel\", 0, -3, 3, 0, 0, 0),\r\n",
        "             Attachment(\"1mW Laser\", \"Laser\", 2, 0, 1, 0, 0, -1),\r\n",
        "             Attachment(\"5mW Laser\", \"Laser\", 4, 0, 2, 0, 0, -1),\r\n",
        "             Attachment(\"Tac Laser\", \"Laser\", 4, 0, 4, 0, 0, 6),\r\n",
        "             Attachment(\"Compensator\", \"Muzzle\", 4, 0, -2, 0, 0, 6),\r\n",
        "             Attachment(\"Flash Guard\", \"Muzzle\", 0, -1, -0.5, 0, 0, 0),\r\n",
        "             Attachment(\"Muzzle Brake\", \"Muzzle\", 7, 0, -2, 0, 0, 2),\r\n",
        "             Attachment(\"Tactical Supressor\", \"Muzzle\", 1.5, 0, -1.5, 0, 0, -0.5),\r\n",
        "             Attachment(\"Integral Hybrid\", \"Optic\", 4, 5, -2, 0, 0, -3),\r\n",
        "             Attachment(\"Reflex\", \"Optic\", 1, 0, -1, 0, 0, -1),\r\n",
        "             Attachment(\"Scout Combat Optic\", \"Optic\", 5, 4, -3, 0, 0, -3),\r\n",
        "             Attachment(\"Solozero NVG Enhanced\", \"Optic\", 5, 4, -4, 0, 0, -4),\r\n",
        "             Attachment(\"Variable Zoom Scope\", \"Optic\", 1, 4, -3, 0, 0, -2),\r\n",
        "             Attachment(\"Granulated Grip Tape\", \"Rear Grip\", 4, 0, -4, 0, 0, 4),\r\n",
        "             Attachment(\"Rubberized Grip Tape\", \"Rear Grip\", 8, 0, 0, 0, 0, -4),\r\n",
        "             Attachment(\"Strippled Grip Tape\", \"Rear Grip\", 0, 0, 6, 0, 0, -4),\r\n",
        "             Attachment(\"FORGE TAC CQS\", \"Stock\", -2, 0, 3, 0, 0, -1),\r\n",
        "             Attachment(\"M-16 Stock\", \"Stock\", 2, 0, -2, 0, 0, 3),\r\n",
        "             Attachment(\"No Stock\", \"Stock\", -3, -2, 9, 0, 0, -4),\r\n",
        "             Attachment(\"Singuard Arms Invader\", \"Stock\", -1, 0, 4, 0, 0, -2.5),\r\n",
        "             Attachment(\"Bipod\", \"Underbarrel\", -1, 0, 4, 0, 0, -2.5),\r\n",
        "             Attachment(\"Commando Foregrip\", \"Underbarrel\", 8, 4, -4, 0, 0, 6),\r\n",
        "             Attachment(\"Merc Foregrip\", \"Underbarrel\", 10, 2, -3, 0, 0, 4),\r\n",
        "             Attachment(\"Operator Foregrip\", \"Underbarrel\", 8, 3, -2, 0, 0, 2),\r\n",
        "             Attachment(\"Tactical Foregrip\", \"Underbarrel\", 1, 1, -1, 0, 0, 6)\r\n",
        "    ]\r\n",
        "}"
      ],
      "execution_count": 7,
      "outputs": []
    },
    {
      "cell_type": "markdown",
      "metadata": {
        "id": "yIPIWaybRCaT"
      },
      "source": [
        "### Define Weapon to optimize"
      ]
    },
    {
      "cell_type": "code",
      "metadata": {
        "colab": {
          "base_uri": "https://localhost:8080/"
        },
        "id": "AdMewaJvW2Hf",
        "outputId": "9f290bfd-6639-402b-c421-a81d880b5518"
      },
      "source": [
        "WEAPON = \"M4A1\"\r\n",
        "weapon = None\r\n",
        "for w in weapons:\r\n",
        "  if w.name == WEAPON:\r\n",
        "    weapon = w\r\n",
        "    break\r\n",
        "print(weapon)"
      ],
      "execution_count": 8,
      "outputs": [
        {
          "output_type": "stream",
          "text": [
            "Name: M4A1\n",
            "\tAccuracy: 71.00 (+0)\n",
            "\tRange: 63.00 (+0)\n",
            "\tMobility: 63.00 (+0)\n",
            "\tDamage: 72.00 (+0)\n",
            "\tFire Rate: 75.00 (+0)\n",
            "\tControl: 71.00 (+0)\n",
            "\t\n"
          ],
          "name": "stdout"
        }
      ]
    },
    {
      "cell_type": "markdown",
      "metadata": {
        "id": "OWiK4HhL7cCl"
      },
      "source": [
        "# Create Optimization Model"
      ]
    },
    {
      "cell_type": "markdown",
      "metadata": {
        "id": "bkGQIRp88OZ5"
      },
      "source": [
        "First, count number of lasers, optics, reargrips, underbarrels and muzzles for this weapon"
      ]
    },
    {
      "cell_type": "code",
      "metadata": {
        "id": "i9Infe4E8UPu"
      },
      "source": [
        "n_laser = len([x for x in attachments_dict[weapon.name] if x.type == \"Laser\"])\r\n",
        "n_optic = len([x for x in attachments_dict[weapon.name] if x.type == \"Optic\"])\r\n",
        "n_rgrip = len([x for x in attachments_dict[weapon.name] if x.type == \"Rear Grip\"])\r\n",
        "n_ubarrel = len([x for x in attachments_dict[weapon.name] if x.type == \"Underbarrel\"])\r\n",
        "n_muzzle = len([x for x in attachments_dict[weapon.name] if x.type == \"Muzzle\"])\r\n",
        "\r\n",
        "n_ammo = len([x for x in attachments_dict[weapon.name] if x.type == \"Ammunition\"])\r\n",
        "n_barrel = len([x for x in attachments_dict[weapon.name] if x.type == \"Barrel\"])\r\n",
        "n_stock = len([x for x in attachments_dict[weapon.name] if x.type == \"Stock\"])\r\n"
      ],
      "execution_count": 9,
      "outputs": []
    },
    {
      "cell_type": "code",
      "metadata": {
        "id": "rHGvY_Ap7bmb"
      },
      "source": [
        "model = ConcreteModel()\r\n",
        "\r\n",
        "model.Lasers = Set(initialize = range(n_laser))\r\n",
        "model.Optics = Set(initialize = range(n_optic))\r\n",
        "model.Reargrips = Set(initialize = range(n_rgrip))\r\n",
        "model.Underbarrels = Set(initialize = range(n_ubarrel))\r\n",
        "model.Muzzles = Set(initialize = range(n_muzzle))\r\n",
        "model.Ammunitions = Set(initialize = range(n_ammo))\r\n",
        "model.Barrels = Set(initialize = range(n_barrel))\r\n",
        "model.Stocks = Set(initialize = range(n_stock))\r\n",
        "\r\n",
        "model.laser = Var(model.Lasers, within = Binary)\r\n",
        "model.optic = Var(model.Optics, within = Binary)\r\n",
        "model.reargrip = Var(model.Reargrips, within = Binary)\r\n",
        "model.underbarrel = Var(model.Underbarrels, within = Binary)\r\n",
        "model.muzzle = Var(model.Muzzles, within = Binary)\r\n",
        "model.ammunition = Var(model.Ammunitions, within = Binary)\r\n",
        "model.barrel = Var(model.Barrels, within = Binary)\r\n",
        "model.stock = Var(model.Stocks, within = Binary)"
      ],
      "execution_count": 10,
      "outputs": []
    },
    {
      "cell_type": "markdown",
      "metadata": {
        "id": "4CQ_wAAn-86P"
      },
      "source": [
        "### Objective Function"
      ]
    },
    {
      "cell_type": "code",
      "metadata": {
        "id": "r8QiGKkm-8WA"
      },
      "source": [
        "def ObjectiveFunction(model):\r\n",
        "\r\n",
        "  lasers = [x for x in attachments_dict[weapon.name] if x.type == \"Laser\"]\r\n",
        "  optics = [x for x in attachments_dict[weapon.name] if x.type == \"Optic\"]\r\n",
        "  reargrips = [x for x in attachments_dict[weapon.name] if x.type == \"Rear Grip\"]\r\n",
        "  ubarrels = [x for x in attachments_dict[weapon.name] if x.type == \"Underbarrel\"]\r\n",
        "  muzzles = [x for x in attachments_dict[weapon.name] if x.type == \"Muzzle\"]\r\n",
        "  ammunitions = [x for x in attachments_dict[weapon.name] if x.type == \"Ammunition\"]\r\n",
        "  barrels = [x for x in attachments_dict[weapon.name] if x.type == \"Barrel\"]\r\n",
        "  stocks = [x for x in attachments_dict[weapon.name] if x.type == \"Stock\"]\r\n",
        "\r\n",
        "  ATTRS_TO_OPTIMIZE = {\r\n",
        "      \"accuracy\": 0.0,\r\n",
        "      \"range\": 0.0,\r\n",
        "      \"mobility\": 0.0,\r\n",
        "      \"damage\": 0.5,\r\n",
        "      \"firerate\": 0.0,\r\n",
        "      \"control\": 0.5\r\n",
        "  }\r\n",
        "\r\n",
        "  assert sum(ATTRS_TO_OPTIMIZE.values()) == 1.0, \"Sum of weights must be equal to 1.0\"\r\n",
        "\r\n",
        "  rest_value = 0\r\n",
        "  for variable in ATTRS_TO_OPTIMIZE:\r\n",
        "    factor = ATTRS_TO_OPTIMIZE[variable]\r\n",
        "    for i in model.Lasers:\r\n",
        "      rest_value += factor*model.laser[i]*getattr(lasers[i], variable)\r\n",
        "\r\n",
        "    for i in model.Optics:\r\n",
        "      rest_value += factor*model.optic[i]*getattr(optics[i], variable)\r\n",
        "\r\n",
        "    for i in model.Reargrips:\r\n",
        "      rest_value += factor*model.reargrip[i]*getattr(reargrips[i], variable)\r\n",
        "\r\n",
        "    for i in model.Underbarrels:\r\n",
        "      rest_value += factor*model.underbarrel[i]*getattr(ubarrels[i], variable)\r\n",
        "\r\n",
        "    for i in model.Muzzles:\r\n",
        "      rest_value += factor*model.muzzle[i]*getattr(muzzles[i], variable)\r\n",
        "\r\n",
        "    for i in model.Ammunitions:\r\n",
        "      rest_value += factor*model.ammunition[i]*getattr(ammunitions[i], variable)\r\n",
        "\r\n",
        "    for i in model.Barrels:\r\n",
        "      rest_value += factor*model.barrel[i]*getattr(barrels[i], variable)\r\n",
        "\r\n",
        "    for i in model.Stocks:\r\n",
        "      rest_value += factor*model.stock[i]*getattr(stocks[i], variable)\r\n",
        "\r\n",
        "  return rest_value"
      ],
      "execution_count": 11,
      "outputs": []
    },
    {
      "cell_type": "markdown",
      "metadata": {
        "id": "NwkVTx-c_AV5"
      },
      "source": [
        "### Constraints"
      ]
    },
    {
      "cell_type": "code",
      "metadata": {
        "id": "PlXIomca5_nR"
      },
      "source": [
        "def NumberOfAttachments(self):\r\n",
        "  # This constraints ensures that the number of attachments is equal to 5\r\n",
        "  attachments = 0\r\n",
        "  for i in model.Lasers:\r\n",
        "    attachments += model.laser[i]\r\n",
        "\r\n",
        "  for i in model.Optics:\r\n",
        "    attachments += model.optic[i]\r\n",
        "  \r\n",
        "  for i in model.Reargrips:\r\n",
        "    attachments += model.reargrip[i]\r\n",
        "\r\n",
        "  for i in model.Underbarrels:\r\n",
        "    attachments += model.underbarrel[i]\r\n",
        "\r\n",
        "  for i in model.Muzzles:\r\n",
        "    attachments += model.muzzle[i]\r\n",
        "\r\n",
        "  for i in model.Ammunitions:\r\n",
        "    attachments += model.ammunition[i]\r\n",
        "\r\n",
        "  for i in model.Barrels:\r\n",
        "    attachments += model.barrel[i]\r\n",
        "\r\n",
        "  for i in model.Stocks:\r\n",
        "    attachments += model.stock[i]\r\n",
        "\r\n",
        "  return attachments == 5\r\n"
      ],
      "execution_count": 12,
      "outputs": []
    },
    {
      "cell_type": "markdown",
      "metadata": {
        "id": "h-fV1p1T_eF_"
      },
      "source": [
        "### Build Model"
      ]
    },
    {
      "cell_type": "code",
      "metadata": {
        "id": "j1-qs3db6AQ2"
      },
      "source": [
        "model.obj = Objective(rule = ObjectiveFunction, sense = maximize)\r\n",
        "model.c0 = Constraint(rule = NumberOfAttachments)\r\n",
        "model.c1 = Constraint(expr = sum(model.laser[i] for i in model.Lasers) <= 1)\r\n",
        "model.c2 = Constraint(rule = sum(model.optic[i] for i in model.Optics)  ==1) # setting this equal to 1 ensures that at least one optics is selected\r\n",
        "model.c3 = Constraint(rule = sum(model.reargrip[i] for i in model.Reargrips) <= 1)\r\n",
        "model.c4 = Constraint(rule = sum(model.underbarrel[i] for i in model.Underbarrels) <= 1)\r\n",
        "model.c5 = Constraint(rule = sum(model.muzzle[i] for i in model.Muzzles) <= 1)\r\n",
        "if n_ammo > 0:\r\n",
        "  model.c6 = Constraint(rule = sum(model.ammunition[i] for i in model.Ammunitions) <= 1)\r\n",
        "\r\n",
        "if n_barrel > 0:\r\n",
        "  model.c7 = Constraint(rule = sum(model.barrel[i] for i in model.Barrels) <= 1)\r\n",
        "\r\n",
        "if n_stock > 0:\r\n",
        "  model.c8 = Constraint(rule = sum(model.stock[i] for i in model.Stocks) <= 1)"
      ],
      "execution_count": 13,
      "outputs": []
    },
    {
      "cell_type": "markdown",
      "metadata": {
        "id": "MpG9yi28Bwps"
      },
      "source": [
        "### Solve"
      ]
    },
    {
      "cell_type": "code",
      "metadata": {
        "id": "r7k9VhmS_hhw"
      },
      "source": [
        "solver = SolverFactory('glpk', executable='/usr/bin/glpsol')\r\n",
        "results = solver.solve(model)"
      ],
      "execution_count": 14,
      "outputs": []
    },
    {
      "cell_type": "markdown",
      "metadata": {
        "id": "dWzo6oF6DEkV"
      },
      "source": [
        "### Attach optimal attachments to weapon\r\n"
      ]
    },
    {
      "cell_type": "code",
      "metadata": {
        "id": "ttWyWKQ1DKUC"
      },
      "source": [
        "weapon.clearattachments()\r\n",
        "weapon.attachments.clear()\r\n",
        "lasers = [x for x in attachments_dict[weapon.name] if x.type == \"Laser\"]\r\n",
        "optics = [x for x in attachments_dict[weapon.name] if x.type == \"Optic\"]\r\n",
        "reargrips = [x for x in attachments_dict[weapon.name] if x.type == \"Rear Grip\"]\r\n",
        "ubarrels = [x for x in attachments_dict[weapon.name] if x.type == \"Underbarrel\"]\r\n",
        "muzzles = [x for x in attachments_dict[weapon.name] if x.type == \"Muzzle\"]\r\n",
        "ammunitions = [x for x in attachments_dict[weapon.name] if x.type == \"Ammunition\"]\r\n",
        "barrels = [x for x in attachments_dict[weapon.name] if x.type == \"Barrel\"]\r\n",
        "stocks = [x for x in attachments_dict[weapon.name] if x.type == \"Stock\"]\r\n",
        "for i in model.Lasers:\r\n",
        "  if model.laser[i]() == 1:\r\n",
        "    weapon.attach(lasers[i])\r\n",
        "\r\n",
        "for i in model.Optics:\r\n",
        "  if model.optic[i]() == 1:\r\n",
        "    weapon.attach(optics[i])\r\n",
        "\r\n",
        "for i in model.Muzzles:\r\n",
        "  if model.muzzle[i]() == 1:\r\n",
        "    weapon.attach(muzzles[i])\r\n",
        "\r\n",
        "for i in model.Reargrips:\r\n",
        "  if model.reargrip[i]() == 1:\r\n",
        "    weapon.attach(reargrips[i])\r\n",
        "\r\n",
        "for i in model.Underbarrels:\r\n",
        "  if model.underbarrel[i]() == 1:\r\n",
        "    weapon.attach(ubarrels[i])\r\n",
        "\r\n",
        "for i in model.Ammunitions:\r\n",
        "  if model.ammunition[i]() == 1:\r\n",
        "    weapon.attach(ammunitions[i])\r\n",
        "\r\n",
        "for i in model.Barrels:\r\n",
        "  if model.barrel[i]() == 1:\r\n",
        "    weapon.attach(barrels[i])\r\n",
        "\r\n",
        "for i in model.Stocks:\r\n",
        "  if model.stock[i]() == 1:\r\n",
        "    weapon.attach(stocks[i])"
      ],
      "execution_count": 15,
      "outputs": []
    },
    {
      "cell_type": "markdown",
      "metadata": {
        "id": "qkgd74LYDCyx"
      },
      "source": [
        "# Print results"
      ]
    },
    {
      "cell_type": "code",
      "metadata": {
        "colab": {
          "base_uri": "https://localhost:8080/"
        },
        "id": "gfdx8rcSFfpD",
        "outputId": "13ae983e-fd0c-45d7-8148-283f168fcfb7"
      },
      "source": [
        "print(weapon)"
      ],
      "execution_count": 16,
      "outputs": [
        {
          "output_type": "stream",
          "text": [
            "Name: M4A1\n",
            "\tAccuracy: 92.00 (+21)\n",
            "\tRange: 67.00 (+4)\n",
            "\tMobility: 56.00 (+-7)\n",
            "\tDamage: 72.00 (+0)\n",
            "\tFire Rate: 75.00 (+0)\n",
            "\tControl: 92.00 (+21)\n",
            "\t\n",
            "Tac Laser\n",
            "Reflex\n",
            "Compensator\n",
            "Granulated Grip Tape\n",
            "Commando Foregrip\n",
            "\n"
          ],
          "name": "stdout"
        }
      ]
    },
    {
      "cell_type": "markdown",
      "metadata": {
        "id": "YZVghA2MdgYs"
      },
      "source": [
        "### Run the following code to see the results of the optimization. It must show 'optimal' at 'Termination Condition'. If not, the results are not accurate"
      ]
    },
    {
      "cell_type": "code",
      "metadata": {
        "colab": {
          "base_uri": "https://localhost:8080/"
        },
        "id": "R0On9oINCXU_",
        "outputId": "df8a47bb-2e36-4f4b-f8a6-783f44693926"
      },
      "source": [
        "results.write()"
      ],
      "execution_count": null,
      "outputs": [
        {
          "output_type": "stream",
          "text": [
            "# ==========================================================\n",
            "# = Solver Results                                         =\n",
            "# ==========================================================\n",
            "# ----------------------------------------------------------\n",
            "#   Problem Information\n",
            "# ----------------------------------------------------------\n",
            "Problem: \n",
            "- Name: unknown\n",
            "  Lower bound: 13.0\n",
            "  Upper bound: 13.0\n",
            "  Number of objectives: 1\n",
            "  Number of constraints: 10\n",
            "  Number of variables: 32\n",
            "  Number of nonzeros: 63\n",
            "  Sense: maximize\n",
            "# ----------------------------------------------------------\n",
            "#   Solver Information\n",
            "# ----------------------------------------------------------\n",
            "Solver: \n",
            "- Status: ok\n",
            "  Termination condition: optimal\n",
            "  Statistics: \n",
            "    Branch and bound: \n",
            "      Number of bounded subproblems: 1\n",
            "      Number of created subproblems: 1\n",
            "  Error rc: 0\n",
            "  Time: 0.024033308029174805\n",
            "# ----------------------------------------------------------\n",
            "#   Solution Information\n",
            "# ----------------------------------------------------------\n",
            "Solution: \n",
            "- number of solutions: 0\n",
            "  number of solutions displayed: 0\n"
          ],
          "name": "stdout"
        }
      ]
    },
    {
      "cell_type": "code",
      "metadata": {
        "id": "QcGp54EoFqW9"
      },
      "source": [
        "weapons_sorted = sorted(weapons, key = lambda x: x.control, reverse = True)"
      ],
      "execution_count": null,
      "outputs": []
    },
    {
      "cell_type": "code",
      "metadata": {
        "colab": {
          "base_uri": "https://localhost:8080/"
        },
        "id": "xENEJWe-dFxv",
        "outputId": "f4785dbb-0b33-4ec8-caed-c43173624944"
      },
      "source": [
        "print(weapons_sorted[-15])"
      ],
      "execution_count": null,
      "outputs": [
        {
          "output_type": "stream",
          "text": [
            "Name: MK2 Carbine\n",
            "\tAccuracy: 78.00 (+0)\n",
            "\tRange: 68.00 (+0)\n",
            "\tMobility: 66.00 (+0)\n",
            "\tDamage: 80.00 (+0)\n",
            "\tFire Rate: 45.00 (+0)\n",
            "\tControl: 60.00 (+0)\n",
            "\t\n"
          ],
          "name": "stdout"
        }
      ]
    },
    {
      "cell_type": "code",
      "metadata": {
        "id": "ikm_4e4kdJxx"
      },
      "source": [
        ""
      ],
      "execution_count": null,
      "outputs": []
    }
  ]
}