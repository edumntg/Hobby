{
  "nbformat": 4,
  "nbformat_minor": 0,
  "metadata": {
    "colab": {
      "name": "Economic Dispatch using SymPy.ipynb",
      "provenance": [],
      "authorship_tag": "ABX9TyOvTpu1MwVHohs/8pSqbjjK",
      "include_colab_link": true
    },
    "kernelspec": {
      "name": "python3",
      "display_name": "Python 3"
    },
    "language_info": {
      "name": "python"
    }
  },
  "cells": [
    {
      "cell_type": "markdown",
      "metadata": {
        "id": "view-in-github",
        "colab_type": "text"
      },
      "source": [
        "<a href=\"https://colab.research.google.com/github/edumntg/Hobby/blob/master/Economic_Dispatch_using_SymPy.ipynb\" target=\"_parent\"><img src=\"https://colab.research.google.com/assets/colab-badge.svg\" alt=\"Open In Colab\"/></a>"
      ]
    },
    {
      "cell_type": "markdown",
      "source": [
        "# <font color='#eb6134'>Example of Economic Dispatch using SymPy</font>\n",
        "In this notebook, **Example 3A** from **Power Generation Operation And Control - Allen J. Wood, Bruce F. Wollenberg** is solved using symbolic variables\n",
        "\n",
        "**Note:** We assume that all the monetary units are **$** and all the power units are **MW**"
      ],
      "metadata": {
        "id": "IKm2hDP8-JIl"
      }
    },
    {
      "cell_type": "markdown",
      "source": [
        "### Problem Statement"
      ],
      "metadata": {
        "id": "NP2EVZiD_Lgn"
      }
    },
    {
      "cell_type": "markdown",
      "source": [
        "*Suppose that we wisth to determine the economic operating point for these three units when delivering a total of 850MW.*\n",
        "\n",
        "The functions of cost for each unit are:\n",
        "\n",
        "<center>$F_{1}(P_{1}) = 561 + 7.92P_{1} + 0.001562P_{1}^{2}$</center>\n",
        "<center>$F_{2}(P_{2}) = 310 + 7.85P_{2} + 0.00194P_{2}^{2}$</center>\n",
        "<center>$F_{3}(P_{3}) = 78 + 7.97P_{3} + 0.00482P_{3}^{2}$</center>\n"
      ],
      "metadata": {
        "id": "bMSsRM7T_NMW"
      }
    },
    {
      "cell_type": "markdown",
      "source": [
        "### Required Python library"
      ],
      "metadata": {
        "id": "CPdhZ15bAqz6"
      }
    },
    {
      "cell_type": "code",
      "execution_count": 93,
      "metadata": {
        "id": "rg8mYYY35UoM"
      },
      "outputs": [],
      "source": [
        "import sympy as sp"
      ]
    },
    {
      "cell_type": "markdown",
      "source": [
        "### We declare four variables, three of them to represent the generation of each unit and a fourth one to represent the marginal cost. These variables are:\n",
        "\n",
        "<center>$P_{1}, P_{2}, P_{3}, \\lambda$</center>"
      ],
      "metadata": {
        "id": "qHrVV9rD5iPk"
      }
    },
    {
      "cell_type": "code",
      "source": [
        "P1, P2, P3, lbd = sp.symbols(\"P1 P2 P3 lbd\")"
      ],
      "metadata": {
        "id": "7seusNwS5Yaj"
      },
      "execution_count": 94,
      "outputs": []
    },
    {
      "cell_type": "markdown",
      "source": [
        "### Now we declare the functions of cost of each generator"
      ],
      "metadata": {
        "id": "3HwurLbN5-7X"
      }
    },
    {
      "cell_type": "code",
      "source": [
        "F1 = 561 + 7.92*P1 + 0.001562*P1**2\n",
        "F2 = 310 + 7.85*P2 + 0.00194*P2**2\n",
        "F3 = 78 + 7.97*P3 + 0.00482*P3**2"
      ],
      "metadata": {
        "id": "WXSaKzZv5s-8"
      },
      "execution_count": 95,
      "outputs": []
    },
    {
      "cell_type": "markdown",
      "source": [
        "### Declare the objective function. For this problem, we want to minimize the cost of production\n",
        "\n",
        "<center>$f(P_{1},P_{2},P_{3}) = F_{1}+F_{2}+F_{3}$</center>"
      ],
      "metadata": {
        "id": "BadS-vvECQFm"
      }
    },
    {
      "cell_type": "code",
      "source": [
        "f = F1 + F2 + F3\n",
        "f # Display the function"
      ],
      "metadata": {
        "colab": {
          "base_uri": "https://localhost:8080/",
          "height": 38
        },
        "id": "3A2sbzc9CPIp",
        "outputId": "aafe5725-39e3-4003-d4ac-64cf16a30135"
      },
      "execution_count": 96,
      "outputs": [
        {
          "output_type": "execute_result",
          "data": {
            "text/latex": "$\\displaystyle 0.001562 P_{1}^{2} + 7.92 P_{1} + 0.00194 P_{2}^{2} + 7.85 P_{2} + 0.00482 P_{3}^{2} + 7.97 P_{3} + 949$",
            "text/plain": [
              "0.001562*P1**2 + 7.92*P1 + 0.00194*P2**2 + 7.85*P2 + 0.00482*P3**2 + 7.97*P3 + 949"
            ]
          },
          "metadata": {},
          "execution_count": 96
        }
      ]
    },
    {
      "cell_type": "markdown",
      "source": [
        "### We declare the following equality constraint\n",
        "\n",
        "<center>$g(P_{1},P_{2},P_{3}) = \\sum_{i=1}^{3}P_{i} - P_{d} = 0$</center>\n",
        "Where $P_{D} = 850 MW$"
      ],
      "metadata": {
        "id": "a89vYbtu6IMU"
      }
    },
    {
      "cell_type": "code",
      "source": [
        "g = P1+P2+P3-850 # = 0\n",
        "g # Display the function"
      ],
      "metadata": {
        "colab": {
          "base_uri": "https://localhost:8080/",
          "height": 38
        },
        "id": "c2udp7rU6HBS",
        "outputId": "8d87fb0b-c799-41ce-e1f5-9a6371ddf015"
      },
      "execution_count": 97,
      "outputs": [
        {
          "output_type": "execute_result",
          "data": {
            "text/latex": "$\\displaystyle P_{1} + P_{2} + P_{3} - 850$",
            "text/plain": [
              "P1 + P2 + P3 - 850"
            ]
          },
          "metadata": {},
          "execution_count": 97
        }
      ]
    },
    {
      "cell_type": "markdown",
      "source": [
        "### Apply Lagrangian function:\n",
        "\n",
        "<center>$\\mathcal{L} = f(P_{1},P_{2},P_{3}) + \\lambda g(P_{1},P_{2},P_{3})$</center>"
      ],
      "metadata": {
        "id": "Wj0dV9QW6O9S"
      }
    },
    {
      "cell_type": "code",
      "source": [
        "L = f + lbd*g\n",
        "L # Display the function"
      ],
      "metadata": {
        "colab": {
          "base_uri": "https://localhost:8080/",
          "height": 38
        },
        "id": "hI8a5wrU6N88",
        "outputId": "dbd13e0a-1337-4f61-80b9-1d598a1cec8f"
      },
      "execution_count": 98,
      "outputs": [
        {
          "output_type": "execute_result",
          "data": {
            "text/latex": "$\\displaystyle 0.001562 P_{1}^{2} + 7.92 P_{1} + 0.00194 P_{2}^{2} + 7.85 P_{2} + 0.00482 P_{3}^{2} + 7.97 P_{3} + lbd \\left(P_{1} + P_{2} + P_{3} - 850\\right) + 949$",
            "text/plain": [
              "0.001562*P1**2 + 7.92*P1 + 0.00194*P2**2 + 7.85*P2 + 0.00482*P3**2 + 7.97*P3 + lbd*(P1 + P2 + P3 - 850) + 949"
            ]
          },
          "metadata": {},
          "execution_count": 98
        }
      ]
    },
    {
      "cell_type": "markdown",
      "source": [
        "### Create Jacobian\n",
        "The Jacobian will be a vector containing the first derivative of the Lagrangian with respect to each variable in the problem\n",
        "\n",
        "<center>$J =\\begin{bmatrix}\n",
        "\\frac{\\partial \\mathcal{L}}{\\partial P_{1}} \\\\\n",
        "\\frac{\\partial \\mathcal{L}}{\\partial P_{2}} \\\\\n",
        "... \\\\\n",
        "\\frac{\\partial \\mathcal{L}}{\\partial \\lambda}\n",
        "\\end{bmatrix}$</center>"
      ],
      "metadata": {
        "id": "8uiyOaHl6X4n"
      }
    },
    {
      "cell_type": "code",
      "source": [
        "J = [sp.diff(L, x) for x in [P1, P2, P3, lbd]]\n",
        "J"
      ],
      "metadata": {
        "colab": {
          "base_uri": "https://localhost:8080/"
        },
        "id": "MdauP7An6SGY",
        "outputId": "f871a889-d34b-4b63-ea1b-0d54319231ea"
      },
      "execution_count": 99,
      "outputs": [
        {
          "output_type": "execute_result",
          "data": {
            "text/plain": [
              "[0.003124*P1 + lbd + 7.92,\n",
              " 0.00388*P2 + lbd + 7.85,\n",
              " 0.00964*P3 + lbd + 7.97,\n",
              " P1 + P2 + P3 - 850]"
            ]
          },
          "metadata": {},
          "execution_count": 99
        }
      ]
    },
    {
      "cell_type": "markdown",
      "source": [
        "### Now, we have 4 equations and 4 unknowns. Using SymPy's *solve* we obtain the solution:"
      ],
      "metadata": {
        "id": "2SrLpKHj6q5T"
      }
    },
    {
      "cell_type": "code",
      "source": [
        "solution = sp.solve(J)\n",
        "P1_sol, P2_sol, P3_sol, lbd_sol = solution.values()\n",
        "solution"
      ],
      "metadata": {
        "colab": {
          "base_uri": "https://localhost:8080/"
        },
        "id": "Ie7oONtU6dAR",
        "outputId": "bb87f5de-78ca-49c9-f0f6-62cdb2e2d39b"
      },
      "execution_count": 89,
      "outputs": [
        {
          "output_type": "execute_result",
          "data": {
            "text/plain": [
              "{P1: 393.169836945603,\n",
              " P2: 334.603755313934,\n",
              " P3: 122.226407740463,\n",
              " lbd: -9.14826257061806}"
            ]
          },
          "metadata": {},
          "execution_count": 89
        }
      ]
    },
    {
      "cell_type": "markdown",
      "source": [
        "### Display solution"
      ],
      "metadata": {
        "id": "nmlEKC1P8DbC"
      }
    },
    {
      "cell_type": "code",
      "source": [
        "print(\"Dispatch generation for Unit 1: {:.4f} MW\".format(P1_sol))\n",
        "print(\"Dispatch generation for Unit 2: {:.4f} MW\".format(P2_sol))\n",
        "print(\"Dispatch generation for Unit 3: {:.4f} MW\".format(P3_sol))\n",
        "print(\"Marginal cost: {:.4f} $/MW\".format(abs(lbd_sol)))\n",
        "\n",
        "# Calculate total production cost\n",
        "total_cost = f.subs([(P1, P1_sol), (P2, P2_sol), (P3, P3_sol)]).evalf()\n",
        "\n",
        "print(\"Total generation cost: {:.4f} $/hr\".format(total_cost))"
      ],
      "metadata": {
        "colab": {
          "base_uri": "https://localhost:8080/"
        },
        "id": "ZkFlg6An6dc8",
        "outputId": "437a22ad-89e5-469b-af56-da2872a6715b"
      },
      "execution_count": 100,
      "outputs": [
        {
          "output_type": "stream",
          "name": "stdout",
          "text": [
            "Dispatch generation for Unit 1: 393.1698 MW\n",
            "Dispatch generation for Unit 2: 334.6038 MW\n",
            "Dispatch generation for Unit 3: 122.2264 MW\n",
            "Marginal cost: 9.1483 $/MW\n",
            "Total generation cost: 8194.3561 $/hr\n"
          ]
        }
      ]
    },
    {
      "cell_type": "markdown",
      "source": [
        "### Check that the sum of the generation from each unit is equal to the load"
      ],
      "metadata": {
        "id": "LN2HVl1sGbKm"
      }
    },
    {
      "cell_type": "code",
      "source": [
        "print(P1_sol+P2_sol+P3_sol==850)"
      ],
      "metadata": {
        "colab": {
          "base_uri": "https://localhost:8080/"
        },
        "id": "U8SorQXYGhkd",
        "outputId": "fea30b64-d899-4f97-9b3e-6714f42b7515"
      },
      "execution_count": 101,
      "outputs": [
        {
          "output_type": "stream",
          "name": "stdout",
          "text": [
            "True\n"
          ]
        }
      ]
    },
    {
      "cell_type": "markdown",
      "source": [
        "### References\n",
        "\n",
        "\n",
        "*   [1] Wood, A. J., & Wollenberg, B. F. (1996). *Power Generation Operation and Control* (Second ed.). Wiley.\n",
        "\n"
      ],
      "metadata": {
        "id": "qYRE-tWdE5XF"
      }
    }
  ]
}